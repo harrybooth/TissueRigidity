{
 "cells": [
  {
   "cell_type": "code",
   "execution_count": 1,
   "metadata": {},
   "outputs": [
    {
     "data": {
      "text/plain": [
       "\"TissueRigidity\""
      ]
     },
     "metadata": {},
     "output_type": "display_data"
    }
   ],
   "source": [
    "using Pkg\n",
    "\n",
    "projectdir_static = dirname(Base.active_project())\n",
    "\n",
    "projectdirx(args...) = joinpath(projectdir_static, args...)\n",
    "\n",
    "# Generate functions to access the path of default subdirectories.\n",
    "for dir_type ∈ (\"data\", \"src\", \"plots\", \"scripts\", \"papers\")\n",
    "    function_name = Symbol(dir_type * \"dirx\")\n",
    "    @eval begin\n",
    "        $function_name(args...) = projectdirx($dir_type, args...)\n",
    "    end\n",
    "end\n",
    "\n",
    "using DrWatson\n",
    "\n",
    "@quickactivate \"TissueRigidity\"\n",
    " \n",
    "projectname()"
   ]
  },
  {
   "cell_type": "code",
   "execution_count": 2,
   "metadata": {},
   "outputs": [
    {
     "name": "stderr",
     "output_type": "stream",
     "text": [
      "┌ Warning: Error requiring `Enzyme` from `LinearSolve`\n",
      "│   exception = (LoadError(\"/Users/boothh/.julia/packages/LinearSolve/qCLK7/ext/LinearSolveEnzymeExt.jl\", 1, ArgumentError(\"Package LinearSolve does not have Enzyme in its dependencies:\\n- You may have a partially installed environment. Try `Pkg.instantiate()`\\n  to ensure all packages in the environment are installed.\\n- Or, if you have LinearSolve checked out for development and have\\n  added Enzyme as a dependency but haven't updated your primary\\n  environment's manifest file, try `Pkg.resolve()`.\\n- Otherwise you may need to report an issue with LinearSolve\")), Union{Ptr{Nothing}, Base.InterpreterIP}[Ptr{Nothing} @0x00000001209077ec, Ptr{Nothing} @0x0000000120907a36, Ptr{Nothing} @0x000000010d5c66bd, Ptr{Nothing} @0x000000010d5fda6d, Ptr{Nothing} @0x000000010d5fc84f, Ptr{Nothing} @0x000000010d5fd039, Ptr{Nothing} @0x000000010d5fccad, Ptr{Nothing} @0x000000010d5fdef5, Ptr{Nothing} @0x0000000129e85c41, Ptr{Nothing} @0x000000010d5c66bd, Ptr{Nothing} @0x0000000129e7f343, Ptr{Nothing} @0x0000000129e7f46f, Ptr{Nothing} @0x0000000129e7f48f, Ptr{Nothing} @0x000000010d5c66bd, Ptr{Nothing} @0x000000010d5d2e99, Ptr{Nothing} @0x0000000203f8625b, Ptr{Nothing} @0x0000000203f86282, Ptr{Nothing} @0x000000010d5c66bd, Ptr{Nothing} @0x000000010d5dfbfd, Ptr{Nothing} @0x000000010d5de0c1, Ptr{Nothing} @0x000000010d5de72a, Base.InterpreterIP in top-level CodeInfo for LinearSolve at statement 15, Ptr{Nothing} @0x000000010d5fcebd, Ptr{Nothing} @0x000000010d5fdef5, Ptr{Nothing} @0x0000000203f861d2, Ptr{Nothing} @0x0000000203f861ff, Ptr{Nothing} @0x000000010d5c66bd, Ptr{Nothing} @0x00000001208bb3d3, Ptr{Nothing} @0x0000000203f86125, Ptr{Nothing} @0x0000000203f8613f, Ptr{Nothing} @0x000000010d5c66bd, Ptr{Nothing} @0x000000010d5dfbfd, Ptr{Nothing} @0x000000010d5ddde9, Ptr{Nothing} @0x000000010d5de349, Ptr{Nothing} @0x000000010d5ddae4, Base.InterpreterIP in MethodInstance for Requires.withpath(::Any, ::String) at statement 10, Ptr{Nothing} @0x0000000203f85fe0, Ptr{Nothing} @0x0000000203f8607f, Ptr{Nothing} @0x000000010d5c66bd, Ptr{Nothing} @0x000000010d5d2e99, Ptr{Nothing} @0x00000001208e3da7, Ptr{Nothing} @0x00000001208e3e43, Ptr{Nothing} @0x000000010d5c66bd, Ptr{Nothing} @0x000000010d5dfbfd, Ptr{Nothing} @0x000000010d5dddb0, Ptr{Nothing} @0x000000010d5ddae4, Base.InterpreterIP in MethodInstance for Requires.loadpkg(::Base.PkgId) at statement 6, Ptr{Nothing} @0x000000010d5c66bd, Ptr{Nothing} @0x000000010d5d2e99, Ptr{Nothing} @0x0000000120889d91, Ptr{Nothing} @0x000000012088cda2, Ptr{Nothing} @0x000000012088e6e2, Ptr{Nothing} @0x000000012090206a, Ptr{Nothing} @0x0000000120904ec1, Ptr{Nothing} @0x00000001209074d4, Ptr{Nothing} @0x0000000120907a36, Ptr{Nothing} @0x000000010d5c66bd, Ptr{Nothing} @0x000000010d5fda6d, Ptr{Nothing} @0x000000010d5fc84f, Ptr{Nothing} @0x000000010d5fccad, Ptr{Nothing} @0x000000010d5fdef5, Ptr{Nothing} @0x00000001208b8e0b, Ptr{Nothing} @0x000000010d5c66bd, Ptr{Nothing} @0x000000010d5d2e99, Ptr{Nothing} @0x00000001208b7bab, Ptr{Nothing} @0x00000001208b8720, Ptr{Nothing} @0x00000001208b8a7e, Ptr{Nothing} @0x00000001208b8afb, Ptr{Nothing} @0x000000010d5c66bd, Ptr{Nothing} @0x00000001208abed1, Ptr{Nothing} @0x000000010d5c66bd, Ptr{Nothing} @0x000000012089f4a7, Ptr{Nothing} @0x000000012089f9d2, Ptr{Nothing} @0x000000012089fa40, Ptr{Nothing} @0x000000010d5c66bd, Ptr{Nothing} @0x00000001208965e9, Ptr{Nothing} @0x000000010d5fce37, Ptr{Nothing} @0x000000010d5fccad, Ptr{Nothing} @0x000000010d5fdef5, Ptr{Nothing} @0x0000000129e85c41, Ptr{Nothing} @0x000000010d5c66bd, Ptr{Nothing} @0x0000000129e7f343, Ptr{Nothing} @0x0000000129e7f46f, Ptr{Nothing} @0x0000000129e7f48f, Ptr{Nothing} @0x000000010d5c66bd, Ptr{Nothing} @0x0000000129b60cd3, Ptr{Nothing} @0x0000000129b615cc, Ptr{Nothing} @0x0000000129b616e8, Ptr{Nothing} @0x000000010d5c66bd, Ptr{Nothing} @0x000000010d625ee2, Ptr{Nothing} @0x000000010d625de7])\n",
      "└ @ Requires /Users/boothh/.julia/packages/Requires/1eCOK/src/require.jl:51\n",
      "┌ Warning: Error requiring `LDLFactorizations` from `LinearOperators`\n",
      "│   exception = (LoadError(\"/Users/boothh/.julia/packages/LinearOperators/Xuihm/ext/LinearOperatorsLDLFactorizationsExt.jl\", 1, ArgumentError(\"Package LinearOperators does not have LDLFactorizations in its dependencies:\\n- You may have a partially installed environment. Try `Pkg.instantiate()`\\n  to ensure all packages in the environment are installed.\\n- Or, if you have LinearOperators checked out for development and have\\n  added LDLFactorizations as a dependency but haven't updated your primary\\n  environment's manifest file, try `Pkg.resolve()`.\\n- Otherwise you may need to report an issue with LinearOperators\")), Union{Ptr{Nothing}, Base.InterpreterIP}[Ptr{Nothing} @0x00000001209077ec, Ptr{Nothing} @0x0000000120907a36, Ptr{Nothing} @0x000000010d5c66bd, Ptr{Nothing} @0x000000010d5fda6d, Ptr{Nothing} @0x000000010d5fc84f, Ptr{Nothing} @0x000000010d5fd039, Ptr{Nothing} @0x000000010d5fccad, Ptr{Nothing} @0x000000010d5fdef5, Ptr{Nothing} @0x0000000129e85c41, Ptr{Nothing} @0x000000010d5c66bd, Ptr{Nothing} @0x0000000129e7f343, Ptr{Nothing} @0x0000000129e7f46f, Ptr{Nothing} @0x0000000129e7f48f, Ptr{Nothing} @0x000000010d5c66bd, Ptr{Nothing} @0x000000010d5d2e99, Ptr{Nothing} @0x0000000203f8db3b, Ptr{Nothing} @0x0000000203f8db62, Ptr{Nothing} @0x000000010d5c66bd, Ptr{Nothing} @0x000000010d5dfbfd, Ptr{Nothing} @0x000000010d5de0c1, Ptr{Nothing} @0x000000010d5de72a, Base.InterpreterIP in top-level CodeInfo for LinearOperators at statement 15, Ptr{Nothing} @0x000000010d5fcebd, Ptr{Nothing} @0x000000010d5fdef5, Ptr{Nothing} @0x0000000203f8de12, Ptr{Nothing} @0x0000000203f8de3f, Ptr{Nothing} @0x000000010d5c66bd, Ptr{Nothing} @0x00000001208bb3d3, Ptr{Nothing} @0x0000000203f8dd65, Ptr{Nothing} @0x0000000203f8dd7f, Ptr{Nothing} @0x000000010d5c66bd, Ptr{Nothing} @0x000000010d5dfbfd, Ptr{Nothing} @0x000000010d5ddde9, Ptr{Nothing} @0x000000010d5de349, Ptr{Nothing} @0x000000010d5ddae4, Base.InterpreterIP in MethodInstance for Requires.withpath(::Any, ::String) at statement 10, Ptr{Nothing} @0x0000000203f8dc20, Ptr{Nothing} @0x0000000203f8dcbf, Ptr{Nothing} @0x000000010d5c66bd, Ptr{Nothing} @0x000000010d5d2e99, Ptr{Nothing} @0x00000001208e3da7, Ptr{Nothing} @0x00000001208e3e43, Ptr{Nothing} @0x000000010d5c66bd, Ptr{Nothing} @0x000000010d5dfbfd, Ptr{Nothing} @0x000000010d5dddb0, Ptr{Nothing} @0x000000010d5ddae4, Base.InterpreterIP in MethodInstance for Requires.loadpkg(::Base.PkgId) at statement 6, Ptr{Nothing} @0x000000010d5c66bd, Ptr{Nothing} @0x000000010d5d2e99, Ptr{Nothing} @0x0000000120889d91, Ptr{Nothing} @0x000000012088cda2, Ptr{Nothing} @0x000000012088e6e2, Ptr{Nothing} @0x000000012090206a, Ptr{Nothing} @0x0000000120904ec1, Ptr{Nothing} @0x00000001209074d4, Ptr{Nothing} @0x0000000120907a36, Ptr{Nothing} @0x000000010d5c66bd, Ptr{Nothing} @0x000000010d5fda6d, Ptr{Nothing} @0x000000010d5fc84f, Ptr{Nothing} @0x000000010d5fccad, Ptr{Nothing} @0x000000010d5fdef5, Ptr{Nothing} @0x00000001208b8e0b, Ptr{Nothing} @0x000000010d5c66bd, Ptr{Nothing} @0x000000010d5d2e99, Ptr{Nothing} @0x00000001208b7bab, Ptr{Nothing} @0x00000001208b8720, Ptr{Nothing} @0x00000001208b8a7e, Ptr{Nothing} @0x00000001208b8afb, Ptr{Nothing} @0x000000010d5c66bd, Ptr{Nothing} @0x00000001208abed1, Ptr{Nothing} @0x000000010d5c66bd, Ptr{Nothing} @0x000000012089f4a7, Ptr{Nothing} @0x000000012089f9d2, Ptr{Nothing} @0x000000012089fa40, Ptr{Nothing} @0x000000010d5c66bd, Ptr{Nothing} @0x00000001208965e9, Ptr{Nothing} @0x000000010d5fce37, Ptr{Nothing} @0x000000010d5fccad, Ptr{Nothing} @0x000000010d5fdef5, Ptr{Nothing} @0x0000000129e85c41, Ptr{Nothing} @0x000000010d5c66bd, Ptr{Nothing} @0x0000000129e7f343, Ptr{Nothing} @0x0000000129e7f46f, Ptr{Nothing} @0x0000000129e7f48f, Ptr{Nothing} @0x000000010d5c66bd, Ptr{Nothing} @0x0000000129b60cd3, Ptr{Nothing} @0x0000000129b615cc, Ptr{Nothing} @0x0000000129b616e8, Ptr{Nothing} @0x000000010d5c66bd, Ptr{Nothing} @0x000000010d625ee2, Ptr{Nothing} @0x000000010d625de7])\n",
      "└ @ Requires /Users/boothh/.julia/packages/Requires/1eCOK/src/require.jl:51\n"
     ]
    }
   ],
   "source": [
    "using DifferentialEquations\n",
    "using StatsBase\n",
    "using CairoMakie\n",
    "using XLSX\n",
    "using DataFrames\n",
    "using Optimization, OptimizationPolyalgorithms, SciMLSensitivity,OptimizationOptimJL,OptimizationBBO,OptimizationNOMAD"
   ]
  },
  {
   "cell_type": "code",
   "execution_count": 3,
   "metadata": {},
   "outputs": [],
   "source": [
    "include(srcdirx(\"Plotting&Utility.jl\"))\n",
    "include(srcdirx(\"FittingFunctions.jl\"))\n",
    "\n",
    "include(srcdirx(\"NodalLefty_NewTerm.jl\"))\n",
    "\n",
    "exp_name = \"NodalLefty_DiffusionDominated\"\n",
    "\n",
    "include(srcdirx(\"ExperimentSetups/\" * exp_name * \".jl\"))\n",
    "\n",
    "include(scriptsdirx(\"LoadData.jl\"));"
   ]
  },
  {
   "cell_type": "code",
   "execution_count": null,
   "metadata": {},
   "outputs": [],
   "source": [
    "α_range = 0.7:0.01:0.95\n",
    "\n",
    "fig = Figure(size = (500,300))\n",
    "ax1 = Axis(fig[1,1],title = \"Porosity\",ylabel = L\"\\phi(\\alpha)\",xlabel = L\"\\alpha\")\n",
    "\n",
    "lines!(ax1, α_range,[ϕ(α) for α in α_range])\n",
    "\n",
    "fig"
   ]
  },
  {
   "cell_type": "code",
   "execution_count": null,
   "metadata": {},
   "outputs": [],
   "source": [
    "const pv_orig = [DN0,DL0,kN0,kL0,kE,kNL,σN0,σL0,Na,NL,NE,LN,s0]\n",
    "# pv_orig = load(datadirx() * \"/sims/NodalLefty_DiffusionDominated_OptParmas.jld2\")[\"OptimalParam\"][3]\n",
    "\n",
    "p_orig,p_cp_orig,p_lm_orig = get_params(pv_orig)\n",
    "\n",
    "tspan = (0,Inf)\n",
    "\n",
    "u0 = ones(Nc,4)\n",
    "\n",
    "u0[:,1] .= 1e-10\n",
    "u0[:,2] .= 1e-10\n",
    "u0[:,3] .= 0.\n",
    "u0[:,4] .= α0\n",
    "\n",
    "prob = ODEProblem(nodal_lefty_spatial_diff!,u0,tspan,p_orig)"
   ]
  },
  {
   "cell_type": "code",
   "execution_count": null,
   "metadata": {},
   "outputs": [],
   "source": [
    "# orig_metrics = get_summary_metrics(pv_orig,prob,data,alpha_data)\n",
    "\n",
    "orig_metrics = get_summary_metrics(pv_orig,prob,data,alpha_data,0.2)"
   ]
  },
  {
   "cell_type": "code",
   "execution_count": null,
   "metadata": {},
   "outputs": [],
   "source": [
    "fig = Figure(size = (1000,1000))\n",
    "\n",
    "fig = plot_summary_newtimes!(fig,[DN0,DL0,kN0,kL0,kE,kNL,σN0,σL0,Na,NL,NE,LN,s0],prob)\n",
    "\n",
    "fig"
   ]
  },
  {
   "cell_type": "code",
   "execution_count": null,
   "metadata": {},
   "outputs": [],
   "source": [
    "# if you want to save the figure\n",
    "\n",
    "save(plotsdir(exp_name * \"_summary.pdf\"),fig)"
   ]
  }
 ],
 "metadata": {
  "kernelspec": {
   "display_name": "Julia 1.8.2",
   "language": "julia",
   "name": "julia-1.8"
  },
  "language_info": {
   "file_extension": ".jl",
   "mimetype": "application/julia",
   "name": "julia",
   "version": "1.8.2"
  },
  "orig_nbformat": 4
 },
 "nbformat": 4,
 "nbformat_minor": 2
}
