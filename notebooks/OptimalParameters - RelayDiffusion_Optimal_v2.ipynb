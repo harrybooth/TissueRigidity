{
 "cells": [
  {
   "cell_type": "code",
   "execution_count": 1,
   "metadata": {},
   "outputs": [
    {
     "data": {
      "text/plain": [
       "\"TissueRigidity\""
      ]
     },
     "metadata": {},
     "output_type": "display_data"
    }
   ],
   "source": [
    "using Pkg\n",
    "\n",
    "projectdir_static = dirname(Base.active_project())\n",
    "\n",
    "projectdirx(args...) = joinpath(projectdir_static, args...)\n",
    "\n",
    "# Generate functions to access the path of default subdirectories.\n",
    "for dir_type ∈ (\"data\", \"src\", \"plots\", \"scripts\", \"papers\")\n",
    "    function_name = Symbol(dir_type * \"dirx\")\n",
    "    @eval begin\n",
    "        $function_name(args...) = projectdirx($dir_type, args...)\n",
    "    end\n",
    "end\n",
    "\n",
    "using DrWatson\n",
    "\n",
    "@quickactivate \"TissueRigidity\"\n",
    " \n",
    "projectname()"
   ]
  },
  {
   "cell_type": "code",
   "execution_count": 2,
   "metadata": {},
   "outputs": [],
   "source": [
    "using DifferentialEquations\n",
    "using StatsBase\n",
    "using CairoMakie\n",
    "using XLSX\n",
    "using DataFrames\n",
    "# using Optimization, OptimizationPolyalgorithms, SciMLSensitivity,OptimizationOptimJL,OptimizationBBO,OptimizationNOMAD"
   ]
  },
  {
   "cell_type": "code",
   "execution_count": 3,
   "metadata": {},
   "outputs": [
    {
     "ename": "UndefVarError",
     "evalue": "UndefVarError: IPNewton not defined",
     "output_type": "error",
     "traceback": [
      "UndefVarError: IPNewton not defined\n"
     ]
    }
   ],
   "source": [
    "IPNewton"
   ]
  },
  {
   "cell_type": "code",
   "execution_count": null,
   "metadata": {},
   "outputs": [],
   "source": [
    "include(srcdirx(\"Plotting&Utility.jl\"))\n",
    "include(srcdirx(\"FittingFunctions.jl\"))\n",
    "# include(srcdirx(\"old/FittingFunctions_old_cmax.jl\"))\n",
    "\n",
    "include(srcdirx(\"NodalLefty_E.jl\"))\n",
    "\n",
    "exp_name = \"NodalLefty_RelayDiffusion_Optimal_v2\"\n",
    "\n",
    "include(srcdirx(\"ExperimentSetups/\" * exp_name * \".jl\"))\n",
    "\n",
    "include(scriptsdirx(\"LoadData.jl\"));"
   ]
  },
  {
   "cell_type": "code",
   "execution_count": null,
   "metadata": {},
   "outputs": [],
   "source": [
    "α_range = 0.7:0.01:0.95\n",
    "\n",
    "fig = Figure(size = (500,300))\n",
    "ax1 = Axis(fig[1,1],title = \"Porosity\",ylabel = L\"\\phi(\\alpha)\",xlabel = L\"\\alpha\")\n",
    "\n",
    "lines!(ax1, α_range,[ϕ(α) for α in α_range])\n",
    "\n",
    "fig"
   ]
  },
  {
   "cell_type": "code",
   "execution_count": null,
   "metadata": {},
   "outputs": [],
   "source": [
    "pv_orig = [DN0,DL0,kN0,kL0,kE,kNL,σN0,σL0,Na,NL,NE,LN,s0]\n",
    "# pv_orig = load(datadirx() * \"/sims/NodalLefty_DiffusionDominated_OptParmas.jld2\")[\"OptimalParam\"][3]\n",
    "\n",
    "p_orig,p_cp_orig,p_lm_orig = get_params(pv_orig)\n",
    "\n",
    "tspan = (0,Inf)\n",
    "\n",
    "u0 = ones(Nc,4)\n",
    "\n",
    "u0[:,1] .= 1e-10\n",
    "u0[:,2] .= 1e-10\n",
    "u0[:,3] .= 0.\n",
    "u0[:,4] .= α0\n",
    "\n",
    "prob = ODEProblem(nodal_lefty_spatial_diff!,u0,tspan,p_orig)\n",
    "\n",
    "lb = copy(pv_orig)\n",
    "ub = copy(pv_orig)\n",
    "\n",
    "lb[1:2] = 0.9 .* lb[1:2]\n",
    "ub[1:2] = 1.1 .* ub[1:2]\n",
    "\n",
    "lb[3:end] = (1 - γ) .* lb[3:end]\n",
    "ub[3:end] = (1 + γ) .* ub[3:end];"
   ]
  },
  {
   "cell_type": "code",
   "execution_count": null,
   "metadata": {},
   "outputs": [],
   "source": [
    "orig_metrics = get_summary_metrics(pv_orig,prob,data,alpha_data,0.2)"
   ]
  },
  {
   "cell_type": "code",
   "execution_count": null,
   "metadata": {},
   "outputs": [],
   "source": [
    "fig = Figure(size = (500,300))\n",
    "\n",
    "ax = Axis(fig[1,1], xlabel = L\"\\text{time (mins)}\", ylabel= L\"\\lambda_{1/2} \\quad (\\mu m)\",ygridvisible = false,xgridvisible = false,ylabelcolor = :blue,yticklabelcolor = :blue)\n",
    "ax_N = Axis(fig[1,1], xlabel = L\"\\text{Rescaled time, t}\", ylabel= L\"N(x=0,t)\", yaxisposition = :right,ylabelcolor = :green,yticklabelcolor = :green,ygridvisible = false,xgridvisible = false,xticksvisible = false)\n",
    "\n",
    "hidexdecorations!(ax_N)\n",
    "\n",
    "sol = solve(prob, p = p_orig, FBDF(),abstol = de_abstol,reltol = de_reltol, maxiters = 1e6,callback = TerminateSteadyState(1e-6,1e-4),isoutofdomain = (u,p,t) -> any(x->x<0, u));\n",
    "\n",
    "N_samp = 5000\n",
    "\n",
    "λ_trange = LinRange(0.,sol.t[end],N_samp)\n",
    "\n",
    "N0t = [sol(t)[1,1] for t in λ_trange]\n",
    "\n",
    "λhalf,λhalf_max_t = get_lambda_half(sol,λ_trange)\n",
    "\n",
    "c_max = maximum(sol(λhalf_max_t)[:,1])\n",
    "\n",
    "lines!(ax,λ_trange ./ 60 ,λhalf,color = :blue)\n",
    "\n",
    "lines!(ax_N,λ_trange ./ 60 ,N0t, color = :green)\n",
    "\n",
    "vlines!(ax,λhalf_max_t / 60, color = :red, linestyle = :dash)\n",
    "\n",
    "save(plotsdir(exp_name * \"/OrigFits/LambdaHalfOverT.pdf\"),fig)\n",
    "\n",
    "fig"
   ]
  },
  {
   "cell_type": "code",
   "execution_count": null,
   "metadata": {},
   "outputs": [],
   "source": [
    "fig = Figure(size = (1200,1200))\n",
    "\n",
    "# fig = plot_summary!(fig,[DN0,DL0,kN0,kL0,2*kE,0.5*kNL,σN0,0.9*σL0,1.2*Na,NL,NE,LN,s0],prob)\n",
    "\n",
    "# fig = plot_summary!(fig,[DN0,DL0,0.5*kN0,kL0,2*kE,0.5*kNL,σN0,0.7*σL0,1.5*Na,NL,0.3*NE,0.5*LN,s0],prob)\n",
    "\n",
    "fig = plot_summary!(fig,[DN0,DL0,kN0,kL0,kE,kNL,σN0,σL0,Na,NL,NE,LN,s0],prob)\n",
    "\n",
    "save(plotsdir(exp_name * \"/OrigFits/Summary_orig.pdf\"),fig)\n",
    "\n",
    "fig\n"
   ]
  },
  {
   "cell_type": "code",
   "execution_count": null,
   "metadata": {},
   "outputs": [],
   "source": [
    "# for i in 1:length(pv_orig)\n",
    "#     print(i)\n",
    "#     for pt in [0.8,1.2]\n",
    "#         fig = Figure(size = (1200,1200))\n",
    "#         p_try = copy(pv_orig)\n",
    "#         p_try[i] = p_try[i]*pt\n",
    "#         plot_summary!(fig,p_try,prob)\n",
    "#         save(plotsdir(exp_name * \"/Perturb/08/\" * p_names_string[p_names[i]] * \"_\" * string(pt) * \".pdf\"),fig)\n",
    "#     end\n",
    "# end"
   ]
  },
  {
   "cell_type": "code",
   "execution_count": null,
   "metadata": {},
   "outputs": [],
   "source": [
    "# for i in 1:length(pv_orig)\n",
    "#     print(i)\n",
    "#     for pt in [0.5,1.5]\n",
    "#         fig = Figure(size = (1200,1200))\n",
    "#         p_try = copy(pv_orig)\n",
    "#         p_try[i] = p_try[i]*pt\n",
    "#         plot_summary!(fig,p_try,prob)\n",
    "#         save(plotsdir(exp_name * \"/Perturb/05/\" * p_names_string[p_names[i]] * \"_\" * string(pt) * \".pdf\"),fig)\n",
    "#     end\n",
    "# end"
   ]
  },
  {
   "cell_type": "code",
   "execution_count": null,
   "metadata": {},
   "outputs": [],
   "source": [
    "sim_data = load(datadirx() * \"/sims/\" * exp_name * \"_CPSet_Sweep_RestrID_nosig.jld2\")[\"Results\"];\n",
    "sim_data_p = load(datadirx() * \"/sims/\" * exp_name * \"_CPSet_Sweep_RestrID_nosig.jld2\")[\"Parameters\"];\n",
    "res_id = findall(x->length(x) == 3 ,sim_data)\n",
    "\n",
    "sim_data = sim_data[res_id]\n",
    "sim_data_p =sim_data_p[res_id];"
   ]
  },
  {
   "cell_type": "code",
   "execution_count": null,
   "metadata": {},
   "outputs": [],
   "source": [
    "sim_data_02 = map(x->x[3],sim_data);"
   ]
  },
  {
   "cell_type": "code",
   "execution_count": null,
   "metadata": {},
   "outputs": [],
   "source": []
  },
  {
   "cell_type": "code",
   "execution_count": null,
   "metadata": {},
   "outputs": [],
   "source": [
    "# sim_data_02_c1_id = findall(x-> (x[:wt_xMax] < x[:cp_xMax]) & (x[:wt_lprod_t0 ] < x[:cp_lprod_t0]) & (x[:cp_d0] < 0.5) & (x[:inc_met] < 10.) ,sim_data_02); P1\n",
    "\n",
    "sim_data_02_c1_id = findall(x-> (x[:wt_xMax] < x[:cp_xMax]) & (1.2*x[:wt_lprod_t0 ] < x[:cp_lprod_t0]) & (x[:wt_d0] < 0.2)  & (x[:cp_d0] < 0.7) & (x[:inc_met] == 0) ,sim_data_02); #P2 - 22\n",
    "\n",
    "# sim_data_02_c1_id = findall(x-> (x[:wt_xMax] < x[:cp_xMax]) & (x[:wt_lprod_t0 ] < x[:cp_lprod_t0]) & (x[:inc_met] < 0.1) ,sim_data_02);"
   ]
  },
  {
   "cell_type": "code",
   "execution_count": null,
   "metadata": {},
   "outputs": [],
   "source": [
    "id = argmin(map(x->x[:alpha_mse],sim_data_02[sim_data_02_c1_id]))\n",
    "\n",
    "id = 1\n",
    "\n",
    "# id = argmin(map(x->mean(x[:xmax_mse]),sim_data_02[sim_data_02_c1_id]))"
   ]
  },
  {
   "cell_type": "code",
   "execution_count": null,
   "metadata": {},
   "outputs": [],
   "source": [
    "sim_data_02[sim_data_02_c1_id][id]"
   ]
  },
  {
   "cell_type": "code",
   "execution_count": null,
   "metadata": {},
   "outputs": [],
   "source": [
    "p_vector = sim_data_p[sim_data_02_c1_id][id]\n",
    "\n",
    "# p,p_cp,p_lm = get_params(p_vector)\n",
    "\n",
    "# sol = solve(prob, p = p, FBDF(),abstol = de_abstol,reltol = de_reltol, maxiters = 1e6,callback = TerminateSteadyState(1e-6,1e-4),isoutofdomain = (u,p,t) -> any(x->x<0, u));\n",
    "# sol_cp = solve(prob, p = p_cp, FBDF(),abstol = de_abstol,reltol = de_reltol,maxiters = 1e6,callback = TerminateSteadyState(1e-6,1e-4),isoutofdomain = (u,p,t) -> any(x->x<0, u));\n",
    "# sol_lm = solve(prob, p = p_lm, FBDF(),abstol = de_abstol,reltol = de_reltol,maxiters = 1e6,callback = TerminateSteadyState(1e-6,1e-4),isoutofdomain = (u,p,t) -> any(x->x<0, u));\n",
    "\n",
    "# λ_trange = LinRange(0.,sol.t[end],N_samp)\n",
    "\n",
    "# λhalf,λhalf_max_t = get_lambda_half(sol,λ_trange)\n",
    "\n",
    "# c_max_wt = maximum(sol(λhalf_max_t)[:,1])"
   ]
  },
  {
   "cell_type": "code",
   "execution_count": null,
   "metadata": {},
   "outputs": [],
   "source": [
    "# c_level = 0.2*c_max_wt\n",
    "\n",
    "# t_grid = LinRange(0,sol.t[end],t_grid_N)\n",
    "\n",
    "# level_x_wt = get_level_x(sol,c_level,t_grid);\n",
    "# level_x_cp = get_level_x(sol_cp,c_level,t_grid)\n",
    "\n",
    "# wt_t0 = t_grid[argmax(level_x_wt)];\n",
    "# cp_t0 = t_grid[argmax(level_x_cp)];\n",
    "\n",
    "# t_plot = LinRange(0,exp_times_times_norm[end],t_plot_N)\n",
    "\n",
    "# level_x_wt_rescaled = get_level_x(sol,c_level,t_plot .* wt_t0)  \n",
    "# level_x_cp_rescaled = get_level_x(sol_cp,c_level,t_plot .* wt_t0)\n",
    "# level_x_lm_rescaled  = get_level_x(sol_lm,c_level,t_plot .* wt_t0)\n",
    "\n",
    "# wt_xMax = maximum(level_x_wt_rescaled)\n",
    "# cp_xMax = maximum(level_x_cp_rescaled)\n",
    "# lm_xMax = maximum(level_x_lm_rescaled)\n",
    "\n",
    "# wt_d0 = level_x_wt_rescaled[end] ./ wt_xMax\n",
    "# cp_d0 = level_x_cp_rescaled[end] ./ cp_xMax\n",
    "# lm_d0 = level_x_lm_rescaled[end] ./ lm_xMax"
   ]
  },
  {
   "cell_type": "code",
   "execution_count": null,
   "metadata": {},
   "outputs": [],
   "source": [
    "fig = Figure(size = (1200,1200))\n",
    "ax = Axis(fig[1,1])\n",
    "lines!(ax,[sol.u[1]*exp(sol.u[2]*x) for x in tissue])\n",
    "scatter!(ax,dynN)\n",
    "\n",
    "fig"
   ]
  },
  {
   "cell_type": "code",
   "execution_count": null,
   "metadata": {},
   "outputs": [],
   "source": [
    "orig_metrics = get_summary_metrics_cpset(p_vector,prob,data,alpha_data,[0.2])"
   ]
  },
  {
   "cell_type": "code",
   "execution_count": null,
   "metadata": {},
   "outputs": [],
   "source": [
    "sim_tuple, sim_cp_tuple,_ = get_params(p_vector)"
   ]
  },
  {
   "cell_type": "code",
   "execution_count": null,
   "metadata": {},
   "outputs": [],
   "source": [
    "fig = Figure(size = (1200,1200))\n",
    "\n",
    "fig = plot_summary!(fig,[sim_tuple[:DN0],sim_tuple[:DL0],sim_tuple[:kN0],sim_tuple[:kL0],sim_tuple[:kE],sim_tuple[:kNL],sim_tuple[:σN0],sim_tuple[:σL0],sim_tuple[:Na],sim_tuple[:NL],sim_tuple[:NE],sim_tuple[:LN],sim_tuple[:s0]],prob)\n",
    "\n",
    "fig"
   ]
  },
  {
   "cell_type": "code",
   "execution_count": null,
   "metadata": {},
   "outputs": [],
   "source": [
    "save(plotsdir(exp_name * \"/OptFits/Sweep_opt_2_alpha.pdf\"),fig)"
   ]
  },
  {
   "cell_type": "code",
   "execution_count": null,
   "metadata": {},
   "outputs": [],
   "source": [
    "sol = solve(prob, p = sim_tuple, FBDF(),abstol = de_abstol,reltol = de_reltol, maxiters = 1e6,callback = TerminateSteadyState(1e-6,1e-4),isoutofdomain = (u,p,t) -> any(x->x<0, u));\n",
    "sol_cp = solve(prob, p = sim_cp_tuple, FBDF(),abstol = de_abstol,reltol = de_reltol,maxiters = 1e6,callback = TerminateSteadyState(1e-6,1e-4),isoutofdomain = (u,p,t) -> any(x->x<0, u));"
   ]
  },
  {
   "cell_type": "code",
   "execution_count": null,
   "metadata": {},
   "outputs": [],
   "source": [
    "orig_metrics = get_summary_metrics(p_vector,prob,data,alpha_data,0.2)\n",
    "\n",
    "t_plot_int = LinRange(0,3*orig_metrics[:wt_t0],1000)\n",
    "\n",
    "nodal_prod_cp,nodal_prod = get_integrated_nodal_prod_values(sol,sol_cp,t_plot_int)\n"
   ]
  },
  {
   "cell_type": "code",
   "execution_count": null,
   "metadata": {},
   "outputs": [],
   "source": [
    "fig = Figure(size = (500,500))\n",
    "\n",
    "ax = Axis(fig[1,1], xlabel = L\"\\text{Rescaled time, } t^{'}\", ylabel= L\"\\int_0^L ν(N(t,x)) dx\" )\n",
    "\n",
    "lines!(ax,LinRange(0,3,1000),nodal_prod_cp,linestyle = :dash,color = :grey, label = L\"\\text{Wnt11}\")\n",
    "lines!(ax,LinRange(0,3,1000),nodal_prod,color = :grey, label = L\"\\text{WT}\")\n",
    "\n",
    "axislegend(ax,position = :rt)\n",
    "\n",
    "save(plotsdir(exp_name * \"/OptFits/IntegratedNodal.pdf\"),fig)\n",
    "\n",
    "fig"
   ]
  },
  {
   "cell_type": "code",
   "execution_count": null,
   "metadata": {},
   "outputs": [],
   "source": [
    "fig = Figure(size = (500,500))\n",
    "\n",
    "\n",
    "ax = Axis(fig[1,2], xlabel = L\"\\text{t, mins}\", ylabel= L\"\\int_0^L ν_L(N(t,x)) dx\" )\n",
    "\n",
    "lines!(ax,ncp,linestyle = :dash,color = :grey, label = L\"\\text{Wnt11}\")\n",
    "lines!(axνN_int,color = :grey, label = L\"\\text{WT}\")\n",
    "\n",
    "axislegend(ax,position = :rt)"
   ]
  },
  {
   "cell_type": "code",
   "execution_count": null,
   "metadata": {},
   "outputs": [],
   "source": [
    "save(plotsdir(exp_name * \"/OptFits/Summary_Sweep_P2.pdf\"),fig)"
   ]
  },
  {
   "cell_type": "code",
   "execution_count": null,
   "metadata": {},
   "outputs": [],
   "source": [
    "pv_orig = [DN0,DL0,kN0,kL0,2*kE,0.5*kNL,σN0,0.9*σL0,1.2*Na,NL,NE,LN,s0]"
   ]
  },
  {
   "cell_type": "code",
   "execution_count": null,
   "metadata": {},
   "outputs": [],
   "source": [
    "for i in 1:length(p_base)\n",
    "    print(i)\n",
    "    for pt in [0.8,1.2]\n",
    "        fig = Figure(size = (1200,1200))\n",
    "        p_try = copy(p_base)\n",
    "        p_try[i] = p_try[i]*pt\n",
    "        plot_summary!(fig,p_try,prob)\n",
    "        save(plotsdir(exp_name * \"/PerturbOpt/\" * p_names_string[p_names[i]] * \"_\" * string(pt) * \".pdf\"),fig)\n",
    "    end\n",
    "\n",
    "end"
   ]
  },
  {
   "cell_type": "code",
   "execution_count": null,
   "metadata": {},
   "outputs": [],
   "source": [
    "map(x->x[:cp_lprod_t0] - x[:wt_lprod_t0],result_dict[:Na])"
   ]
  },
  {
   "cell_type": "code",
   "execution_count": null,
   "metadata": {},
   "outputs": [],
   "source": [
    "p_names_string[p_names[1]]"
   ]
  },
  {
   "cell_type": "code",
   "execution_count": null,
   "metadata": {},
   "outputs": [],
   "source": []
  }
 ],
 "metadata": {
  "kernelspec": {
   "display_name": "Julia 1.8.2",
   "language": "julia",
   "name": "julia-1.8"
  },
  "language_info": {
   "file_extension": ".jl",
   "mimetype": "application/julia",
   "name": "julia",
   "version": "1.8.2"
  },
  "orig_nbformat": 4
 },
 "nbformat": 4,
 "nbformat_minor": 2
}
