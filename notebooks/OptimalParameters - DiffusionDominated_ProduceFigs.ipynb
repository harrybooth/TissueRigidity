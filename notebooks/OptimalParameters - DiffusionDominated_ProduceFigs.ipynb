{
 "cells": [
  {
   "cell_type": "code",
   "execution_count": 1,
   "metadata": {},
   "outputs": [
    {
     "data": {
      "text/plain": [
       "\"TissueRigidity\""
      ]
     },
     "metadata": {},
     "output_type": "display_data"
    }
   ],
   "source": [
    "using Pkg\n",
    "\n",
    "projectdir_static = dirname(Base.active_project())\n",
    "\n",
    "projectdirx(args...) = joinpath(projectdir_static, args...)\n",
    "\n",
    "# Generate functions to access the path of default subdirectories.\n",
    "for dir_type ∈ (\"data\", \"src\", \"plots\", \"scripts\", \"papers\")\n",
    "    function_name = Symbol(dir_type * \"dirx\")\n",
    "    @eval begin\n",
    "        $function_name(args...) = projectdirx($dir_type, args...)\n",
    "    end\n",
    "end\n",
    "\n",
    "using DrWatson\n",
    "\n",
    "@quickactivate \"TissueRigidity\"\n",
    " \n",
    "projectname()"
   ]
  },
  {
   "cell_type": "code",
   "execution_count": null,
   "metadata": {},
   "outputs": [],
   "source": [
    "using DifferentialEquations\n",
    "using StatsBase\n",
    "using CairoMakie\n",
    "using XLSX\n",
    "using DataFrames\n",
    "using Optimization, OptimizationPolyalgorithms, SciMLSensitivity,OptimizationOptimJL,OptimizationBBO,OptimizationNOMAD"
   ]
  },
  {
   "cell_type": "code",
   "execution_count": 4,
   "metadata": {},
   "outputs": [],
   "source": [
    "using Optimization,OptimizationOptimJL"
   ]
  },
  {
   "cell_type": "code",
   "execution_count": 5,
   "metadata": {},
   "outputs": [
    {
     "data": {
      "text/plain": [
       "IPNewton{typeof(Optim.backtrack_constrained_grad), Symbol}(Optim.backtrack_constrained_grad, :auto, false)"
      ]
     },
     "metadata": {},
     "output_type": "display_data"
    }
   ],
   "source": [
    "IPNewton()"
   ]
  },
  {
   "cell_type": "code",
   "execution_count": null,
   "metadata": {},
   "outputs": [],
   "source": [
    "include(srcdirx(\"Plotting&Utility.jl\"))\n",
    "include(srcdirx(\"FittingFunctions.jl\"))\n",
    "# include(srcdirx(\"old/FittingFunctions_old_cmax.jl\"))\n",
    "\n",
    "include(srcdirx(\"NodalLefty_E.jl\"))\n",
    "\n",
    "exp_name = \"NodalLefty_DiffusionDominated_Zena_Set2\"\n",
    "\n",
    "include(srcdirx(\"ExperimentSetups/\" * exp_name * \".jl\"))\n",
    "\n",
    "include(scriptsdirx(\"LoadData.jl\"));"
   ]
  },
  {
   "cell_type": "code",
   "execution_count": null,
   "metadata": {},
   "outputs": [],
   "source": [
    "α_range = 0.7:0.01:0.95\n",
    "\n",
    "fig = Figure(size = (500,300))\n",
    "ax1 = Axis(fig[1,1],title = \"Porosity\",ylabel = L\"\\phi(\\alpha)\",xlabel = L\"\\alpha\")\n",
    "\n",
    "lines!(ax1, α_range,[ϕ(α) for α in α_range])\n",
    "\n",
    "fig"
   ]
  },
  {
   "cell_type": "code",
   "execution_count": null,
   "metadata": {},
   "outputs": [],
   "source": [
    "pv_orig = [DN0,DL0,kN0,kL0,kE,kNL,σN0,σL0,Na,NL,NE,LN,s0]\n",
    "# pv_orig = load(datadirx() * \"/sims/NodalLefty_DiffusionDominated_OptParmas.jld2\")[\"OptimalParam\"][3]\n",
    "\n",
    "p_orig,p_cp_orig,p_lm_orig = get_params(pv_orig)\n",
    "\n",
    "tspan = (0,Inf)\n",
    "\n",
    "u0 = ones(Nc,4)\n",
    "\n",
    "u0[:,1] .= 1e-10\n",
    "u0[:,2] .= 1e-10\n",
    "u0[:,3] .= 0.\n",
    "u0[:,4] .= α0\n",
    "\n",
    "prob = ODEProblem(nodal_lefty_spatial_diff!,u0,tspan,p_orig)\n",
    "\n",
    "lb = copy(pv_orig)\n",
    "ub = copy(pv_orig)\n",
    "\n",
    "lb[1:2] = 0.9 .* lb[1:2]\n",
    "ub[1:2] = 1.1 .* ub[1:2]\n",
    "\n",
    "lb[3:end] = (1 - γ) .* lb[3:end]\n",
    "ub[3:end] = (1 + γ) .* ub[3:end];"
   ]
  },
  {
   "cell_type": "code",
   "execution_count": null,
   "metadata": {},
   "outputs": [],
   "source": [
    "# orig_metrics = get_summary_metrics(pv_orig,prob,data,alpha_data,0.2)"
   ]
  },
  {
   "cell_type": "code",
   "execution_count": null,
   "metadata": {},
   "outputs": [],
   "source": [
    "# function get_lambda_half_v1(sol,t_range)\n",
    "#     c0_t = [maximum(sol(t)[:,1]) for t in t_range] .- 1e-10\n",
    "\n",
    "#     λhalf_id = [findall(sol(t)[:,1] .- 1e-10 .> 0.5*c0) for (t,c0) in zip(t_range,c0_t)]\n",
    "#     λhalf_x = [length(id_list) != 0 ? tissue[maximum(id_list)] : 0. for id_list in λhalf_id];\n",
    "\n",
    "#     λhalf_x, t_range[maximum(findall(x->x==maximum(λhalf_x),λhalf_x))]\n",
    "# end"
   ]
  },
  {
   "cell_type": "code",
   "execution_count": null,
   "metadata": {},
   "outputs": [],
   "source": [
    "# fig = Figure(size = (500,300))\n",
    "\n",
    "# ax = Axis(fig[1,1], xlabel = L\"\\text{time (mins)}\", ylabel= L\"\\lambda_{1/2} \\quad (\\mu m)\",ygridvisible = false,xgridvisible = false,ylabelcolor = :blue,yticklabelcolor = :blue)\n",
    "# ax_N = Axis(fig[1,1], xlabel = L\"\\text{Rescaled time, t}\", ylabel= L\"N(x=0,t)\", yaxisposition = :right,ylabelcolor = :green,yticklabelcolor = :green,ygridvisible = false,xgridvisible = false,xticksvisible = false)\n",
    "\n",
    "# hidexdecorations!(ax_N)\n",
    "\n",
    "# sol = solve(prob, p = p_orig, FBDF(),abstol = de_abstol,reltol = de_reltol, maxiters = 1e6,callback = TerminateSteadyState(1e-6,1e-4),isoutofdomain = (u,p,t) -> any(x->x<0, u));\n",
    "\n",
    "# N_samp = 10000\n",
    "\n",
    "# λ_trange = LinRange(0.,sol.t[end],N_samp)\n",
    "\n",
    "# sol = solve(prob, p = p_orig, FBDF(),abstol = de_abstol,reltol = de_reltol, maxiters = 1e6,callback = TerminateSteadyState(1e-6,1e-4),isoutofdomain = (u,p,t) -> any(x->x<0, u),saveat = λ_trange);\n",
    "\n",
    "# N0t = [sol(t)[1,1] for t in λ_trange]\n",
    "\n",
    "# λhalf,λhalf_max_t = get_lambda_half(sol,λ_trange)\n",
    "\n",
    "# c_max = maximum(sol(λhalf_max_t)[:,1])\n",
    "\n",
    "# lines!(ax,λ_trange ./ 60 ,λhalf,color = :blue)\n",
    "\n",
    "# lines!(ax_N,λ_trange ./ 60 ,N0t, color = :green)\n",
    "\n",
    "# vlines!(ax,λhalf_max_t / 60, color = :red, linestyle = :dash)\n",
    "\n",
    "# save(plotsdir(exp_name * \"/OrigFits/LambdaHalfOverT.pdf\"),fig)\n",
    "\n",
    "# fig"
   ]
  },
  {
   "cell_type": "code",
   "execution_count": null,
   "metadata": {},
   "outputs": [],
   "source": [
    "# fig = Figure(size = (500,300))\n",
    "\n",
    "# ax = Axis(fig[1,1], xlabel = L\"\\text{time (mins)}\", ylabel= L\"\\lambda_{1/2} \\quad (\\mu m)\",ygridvisible = false,xgridvisible = false,ylabelcolor = :blue,yticklabelcolor = :blue)\n",
    "# ax_N = Axis(fig[1,1], xlabel = L\"\\text{Rescaled time, t}\", ylabel= L\"N(x=0,t)\", yaxisposition = :right,ylabelcolor = :green,yticklabelcolor = :green,ygridvisible = false,xgridvisible = false,xticksvisible = false)\n",
    "\n",
    "# hidexdecorations!(ax_N)\n",
    "\n",
    "# sol = solve(prob, p = p_orig, FBDF(),abstol = de_abstol,reltol = de_reltol, maxiters = 1e6,callback = TerminateSteadyState(1e-6,1e-4),isoutofdomain = (u,p,t) -> any(x->x<0, u));\n",
    "\n",
    "# N_samp = 10000\n",
    "\n",
    "# λ_trange = LinRange(0.,sol.t[end],N_samp)\n",
    "\n",
    "# sol = solve(prob, p = p_orig, FBDF(),abstol = de_abstol,reltol = de_reltol, maxiters = 1e6,callback = TerminateSteadyState(1e-6,1e-4),isoutofdomain = (u,p,t) -> any(x->x<0, u),saveat = λ_trange);\n",
    "\n",
    "# N0t = [sol(t)[1,1] for t in λ_trange]\n",
    "\n",
    "# λhalf,λhalf_max_t = get_lambda_half_v1(sol,λ_trange)\n",
    "\n",
    "# c_max = maximum(sol(λhalf_max_t)[:,1])\n",
    "\n",
    "# lines!(ax,λ_trange ./ 60 ,λhalf,color = :blue)\n",
    "\n",
    "# lines!(ax_N,λ_trange ./ 60 ,N0t, color = :green)\n",
    "\n",
    "# vlines!(ax,λhalf_max_t / 60, color = :red, linestyle = :dash)\n",
    "\n",
    "# save(plotsdir(exp_name * \"/OrigFits/LambdaHalfOverT_v1.pdf\"),fig)\n",
    "\n",
    "# fig"
   ]
  },
  {
   "cell_type": "code",
   "execution_count": null,
   "metadata": {},
   "outputs": [],
   "source": [
    "# fig = Figure(size = (1200,1200))\n",
    "\n",
    "# # fig = plot_summary!(fig,[DN0,DL0,kN0,kL0,kE,kNL,σN0,σL0,0.8*Na,NL,0.5*NE,0.5*LN,s0],prob)\n",
    "\n",
    "# fig = plot_summary_newtimes!(fig,[DN0,DL0,kN0,kL0,kE,kNL,σN0,σL0,Na,NL,NE,LN,s0],prob)\n",
    "\n",
    "# # save(plotsdir(exp_name * \"/OrigFits/Summary.pdf\"),fig)\n",
    "\n",
    "# fig"
   ]
  },
  {
   "cell_type": "code",
   "execution_count": null,
   "metadata": {},
   "outputs": [],
   "source": [
    "# pv = [DN0,DL0,kN0,kL0,kE,kNL,σN0,σL0,Na,NL,NE,LN,s0];\n",
    "\n",
    "p_tuple,p_cp_tuple,p_lm_tuple = get_params(pv_orig)\n",
    "\n",
    "(t_grid_alpha,dyn_alpha),(t_plot,(level_x_wt_rescaled,level_x_cp_rescaled,level_x_lm_rescaled )),(porosity_dyn,porosity_dyn_cp),c_level,(sol,sol_cp,sol_lm) = get_alpha_xmax_lambda_et(pv_orig,prob,0.2,5);\n"
   ]
  },
  {
   "cell_type": "code",
   "execution_count": null,
   "metadata": {},
   "outputs": [],
   "source": [
    "parameter_df =  DataFrames.DataFrame()\n",
    "\n",
    "for var in p_names\n",
    "    parameter_df[!,p_names_string[var]] = [p_tuple[var]]\n",
    "end"
   ]
  },
  {
   "cell_type": "code",
   "execution_count": null,
   "metadata": {},
   "outputs": [],
   "source": [
    "fig = Figure(size = (250,200), fontsize = 12.)\n",
    "\n",
    "ax = Axis(fig[1,1], xlabel = L\"\\text{Rescaled time, t}\", ylabel= L\"\\text{Position of 20% max } c_N \\text{ } (μm) \",ygridvisible = false,xgridvisible = false)\n",
    "ax_por = Axis(fig[1,1], xlabel = L\"\\text{Rescaled time, t}\", ylabel= L\"\\text{Average porosity, } \\phi\", yaxisposition = :right,ylabelcolor = :red,yticklabelcolor = :red,ygridvisible = false,xgridvisible = false,xticksvisible = false)\n",
    "\n",
    "hidexdecorations!(ax_por)\n",
    "\n",
    "rs_wt_max = maximum(level_x_wt_rescaled)\n",
    "\n",
    "lines!(ax,t_plot,level_x_wt_rescaled ./ rs_wt_max,color = :black,label = L\"\\text{WT}\")\n",
    "lines!(ax,t_plot,level_x_cp_rescaled ./ rs_wt_max,color = :orange,label = L\"\\text{Wnt11}\")\n",
    "# lines!(ax,t_plot,level_x_lm_rescaled,color = :pink,label = L\"\\text{Lefty mutant}\")\n",
    "\n",
    "lines!(ax_por,t_plot,porosity_dyn ,linestyle = :dash,color = :black,label = L\"\\text{ϕ}\")\n",
    "lines!(ax_por,t_plot,porosity_dyn_cp ,linestyle = :dash,color = :orange,label = L\"\\text{ϕ}\")\n",
    "\n",
    "# axislegend(ax,position = :lt)\n",
    "\n",
    "ylims!(ax_por,0.,0.14)\n",
    "\n",
    "ax.xticks = (0:1:5,string.(0:1:5))\n",
    "\n",
    "save(plotsdir(exp_name * \"/FinalFigures_DT/SMADPlots_NormalizedDistance.pdf\"),fig)\n",
    "\n",
    "fig\n"
   ]
  },
  {
   "cell_type": "code",
   "execution_count": null,
   "metadata": {},
   "outputs": [],
   "source": [
    "fig = Figure(size = (250,200), fontsize = 12.)\n",
    "\n",
    "ax = Axis(fig[1,1], xlabel = L\"\\text{Rescaled time, t}\", ylabel= L\"\\text{Position of 20% max } c_N \\text{ } (μm) \",ygridvisible = false,xgridvisible = false)\n",
    "ax_por = Axis(fig[1,1], xlabel = L\"\\text{Rescaled time, t}\", ylabel= L\"\\text{Average porosity, } \\phi\", yaxisposition = :right,ylabelcolor = :red,yticklabelcolor = :red,ygridvisible = false,xgridvisible = false,xticksvisible = false)\n",
    "\n",
    "hidexdecorations!(ax_por)\n",
    "\n",
    "lines!(ax,t_plot,level_x_wt_rescaled ,color = :black,label = L\"\\text{WT}\")\n",
    "lines!(ax,t_plot,level_x_cp_rescaled ,color = :orange,label = L\"\\text{Wnt11}\")\n",
    "# lines!(ax,t_plot,level_x_lm_rescaled,color = :pink,label = L\"\\text{Lefty mutant}\")\n",
    "\n",
    "lines!(ax_por,t_plot,porosity_dyn ,linestyle = :dash,color = :black,label = L\"\\text{ϕ}\")\n",
    "lines!(ax_por,t_plot,porosity_dyn_cp ,linestyle = :dash,color = :orange,label = L\"\\text{ϕ}\")\n",
    "\n",
    "# axislegend(ax,position = :lt)\n",
    "\n",
    "ylims!(ax_por,0.,0.14)\n",
    "\n",
    "ylims!(ax,0,150)\n",
    "\n",
    "ax.xticks = (0:1:5,string.(0:1:5))\n",
    "\n",
    "save(plotsdir(exp_name * \"/FinalFigures_DT/SMADPlots.pdf\"),fig)\n",
    "\n",
    "fig"
   ]
  },
  {
   "cell_type": "code",
   "execution_count": null,
   "metadata": {},
   "outputs": [],
   "source": [
    "smad_plot_df = DataFrames.DataFrame()\n",
    "\n",
    "smad_plot_df[!,\"Time\"] = t_plot\n",
    "smad_plot_df[!,\"SMAD_curve_fits_WT_normalizedDistance\"] = level_x_wt_rescaled ./ rs_wt_max\n",
    "smad_plot_df[!,\"SMAD_curve_fits_Wnt11_normalizedDistance\"] = level_x_cp_rescaled ./ rs_wt_max\n",
    "smad_plot_df[!,\"SMAD_curve_fits_WT\"] = level_x_wt_rescaled \n",
    "smad_plot_df[!,\"SMAD_curve_fits_Wnt11\"] = level_x_cp_rescaled \n",
    "smad_plot_df[!,\"porosity_WT\"] = porosity_dyn\n",
    "smad_plot_df[!,\"porosity_Wnt11\"] = porosity_dyn_cp;"
   ]
  },
  {
   "cell_type": "code",
   "execution_count": null,
   "metadata": {},
   "outputs": [],
   "source": [
    "orig_metrics = get_summary_metrics(pv_orig,prob,data,alpha_data,0.2)"
   ]
  },
  {
   "cell_type": "code",
   "execution_count": null,
   "metadata": {},
   "outputs": [],
   "source": [
    "fig = Figure(size = (300,200), fontsize = 12.)\n",
    "\n",
    "t_plot_int = LinRange(0,3*orig_metrics[:wt_t0],1000)\n",
    "\n",
    "νN_int_cp,νN_int = get_integrated_lefty_prod_values(sol,sol_cp,t_plot_int,p_tuple,p_cp_tuple)\n",
    "\n",
    "# nodal_prod_cp,nodal_prod = get_integrated_nodal_prod_values(sol,sol_cp,t_plot_int)\n",
    "\n",
    "ax = Axis(fig[1,1], xlabel = L\"\\text{Rescaled time, } t^{'}\", ylabel= L\"\\int_0^L ν_L(N(t,x)) dx\" )\n",
    "\n",
    "lines!(ax,LinRange(0,3,1000),νN_int_cp,linestyle = :dash,color = :grey, label = L\"\\text{Wnt11}\")\n",
    "lines!(ax,LinRange(0,3,1000),νN_int,color = :grey, label = L\"\\text{WT}\")\n",
    "\n",
    "axislegend(ax,position = :rt)\n",
    "\n",
    "save(plotsdir(exp_name * \"/FinalFigures_DT/TotalLeftyProd.pdf\"),fig)\n",
    "\n",
    "fig\n"
   ]
  },
  {
   "cell_type": "code",
   "execution_count": null,
   "metadata": {},
   "outputs": [],
   "source": [
    "intl_plot_df = DataFrames.DataFrame()\n",
    "\n",
    "intl_plot_df[!,\"Time\"] = LinRange(0,3,1000)\n",
    "intl_plot_df[!,\"total_lefty_prod_WT\"] = νN_int\n",
    "intl_plot_df[!,\"total_lefty_prod_Wnt11\"] = νN_int_cp;"
   ]
  },
  {
   "cell_type": "code",
   "execution_count": null,
   "metadata": {},
   "outputs": [],
   "source": [
    "fig = Figure(size = (400,300), fontsize = 12.)\n",
    "\n",
    "ax = Axis(fig[1,1], xlabel = L\"\\text{Position}\", ylabel= L\"α(t)\")\n",
    "\n",
    "for (n,d) in enumerate(dyn_alpha[1:end-1])\n",
    "    lines!(ax,alpha_x,d, label = string(alpha_data_times_norm[n])* \"* t_wt\")\n",
    "    scatter!(ax,alpha_x,alpha_data[:,n+1])\n",
    "end\n",
    "\n",
    "axislegend(ax,position = :rb)\n",
    "\n",
    "save(plotsdir(exp_name * \"/FinalFigures_DT/AlphaFits.pdf\"),fig)\n",
    "\n",
    "fig\n"
   ]
  },
  {
   "cell_type": "code",
   "execution_count": null,
   "metadata": {},
   "outputs": [],
   "source": [
    "alpha_fits  = DataFrames.DataFrame()\n",
    "\n",
    "alpha_fits[!,\"Position (um)\"] = alpha_x\n",
    "\n",
    "for (n,d) in enumerate(dyn_alpha[1:end-1])\n",
    "    alpha_fits[!,string(alpha_data_times_norm[n])* \"* t_wt\"] = d\n",
    "end\n",
    "\n",
    "alpha_fits"
   ]
  },
  {
   "cell_type": "code",
   "execution_count": null,
   "metadata": {},
   "outputs": [],
   "source": [
    "# alpha_data_times_norm_v = [0.,0.3,0.6,0.9,1.2,1.5,1.8,2.1] .* 1.2\n",
    "\n",
    "alpha_data_times_norm_v = [i for i in 0:0.25:5]\n",
    "\n",
    "t_check = alpha_data_times_norm_v[2:end] .* orig_metrics[:wt_t0]\n",
    "\n",
    "prob_finite = remake(prob,tspan = (0,alpha_data_times_norm_v[end] * orig_metrics[:wt_t0]))\n",
    "\n",
    "sol_profiles = solve(prob_finite, p = p_tuple, FBDF(),abstol = de_abstol,reltol = de_reltol, maxiters = 1e6,isoutofdomain = (u,p,t) -> any(x->x<0, u), saveat = t_check);\n",
    "sol_profiles_cp = solve(prob_finite, p = p_cp_tuple, FBDF(),abstol = de_abstol,reltol = de_reltol, maxiters = 1e6,isoutofdomain = (u,p,t) -> any(x->x<0, u), saveat = t_check);\n",
    "\n",
    "dyn_N = [sol[1:150,1] for sol in sol_profiles.u[1:length(t_check)]]\n",
    "dyn_L = [sol[1:150,2] for sol in sol_profiles.u[1:length(t_check)]];\n",
    "dyn_α = [sol[1:150,4] for sol in sol_profiles.u[1:length(t_check)]];\n",
    "\n",
    "bin_size = 10\n",
    "\n",
    "dyn_N_binned = [[mean(N[n+1:n+bin_size]) for n in 0:bin_size:150-bin_size] for N in dyn_N]\n",
    "\n",
    "dyn_N_cp = [sol[1:150,1] for sol in sol_profiles_cp.u[1:length(t_check)]];\n",
    "dyn_L_cp = [sol[1:150,2] for sol in sol_profiles_cp.u[1:length(t_check)]];\n",
    "dyn_α_cp = [sol[1:150,4] for sol in sol_profiles_cp.u[1:length(t_check)]];\n",
    "\n",
    "N_max = maximum(vcat(maximum.(dyn_N),maximum.(dyn_N_cp)))\n",
    "L_max = maximum(vcat(maximum.(dyn_N),maximum.(dyn_N_cp)))\n",
    "\n",
    "dyn_N_cp_binned = [[mean(N[n+1:n+bin_size]) for n in 0:bin_size:150-bin_size] for N in dyn_N_cp]\n",
    "\n",
    "lefty_prod_profiles_cp = [ν.(cN,σ.(p_cp_tuple[:σL0],ϕ0,ϕ.(α)),p_cp_tuple[:NL],p_cp_tuple[:mL]) for (cN,α) in zip(dyn_N_cp,dyn_α_cp)];\n",
    "lefty_prod_profiles = [ν.(cN,σ.(p_tuple[:σL0],ϕ0,ϕ.(α)),p_tuple[:NL],p_tuple[:mL]) for (cN,α) in zip(dyn_N,dyn_α)];\n",
    "\n",
    "nodal_prod_profiles_cp = [ν.(cN,σ.(p_cp_tuple[:σN0],ϕ0,ϕ.(α)),p_cp_tuple[:Na],p_cp_tuple[:mN]) for (cN,α) in zip(dyn_N_cp,dyn_α_cp)];\n",
    "nodal_prod_profiles = [ν.(cN,σ.(p_tuple[:σN0],ϕ0,ϕ.(α)),p_tuple[:Na],p_tuple[:mN]) for (cN,α) in zip(dyn_N,dyn_α)];"
   ]
  },
  {
   "cell_type": "code",
   "execution_count": null,
   "metadata": {},
   "outputs": [],
   "source": [
    "fig = Figure(size = (600,300), fontsize = 12.)\n",
    "\n",
    "ax1 = Axis(fig[1,1], xlabel = L\"\\text{Position} ( \\mu m)\", ylabel= L\"\\text{Nodal Concentration}\", title = \"WT\")\n",
    "\n",
    "for (i,N) in enumerate(dyn_N)\n",
    "    lines!(ax1,N ./ N_max,label = string(alpha_data_times_norm_v[2:end][i]) * \"* t_wt\",colormap = :viridis, color = i, colorrange = (1,length(t_check)))\n",
    "end\n",
    "\n",
    "# axislegend(ax1,position = :rt)\n",
    "\n",
    "ax2 = Axis(fig[1,2], xlabel = L\"\\text{Position} ( \\mu m)\", ylabel= L\"\\text{Nodal Concentration}\", title = \"Wnt11\")\n",
    "\n",
    "for (i,N) in enumerate(dyn_N_cp)\n",
    "    lines!(ax2,N ./ N_max,label = string(alpha_data_times_norm_v[2:end][i]) * \"* t_wt\",colormap = :viridis, color = i, colorrange = (1,length(t_check)))\n",
    "end\n",
    "\n",
    "linkyaxes!(ax1,ax2)\n",
    "\n",
    "save(plotsdir(exp_name * \"/FinalFigures_DT/NodalProfiles.pdf\"),fig)\n",
    "\n",
    "# axislegend(ax2,position = :rt)\n",
    "\n",
    "Legend(fig[2,1:2],ax2,nbanks = 5)\n",
    "\n",
    "fig"
   ]
  },
  {
   "cell_type": "code",
   "execution_count": null,
   "metadata": {},
   "outputs": [],
   "source": [
    "bin_x = [i for i in 0:bin_size:150-bin_size];\n",
    "\n",
    "bin_x = bin_x .+ bin_size ./ 2;"
   ]
  },
  {
   "cell_type": "code",
   "execution_count": null,
   "metadata": {},
   "outputs": [],
   "source": [
    "nodal_profiles  = DataFrames.DataFrame()\n",
    "\n",
    "nodal_profiles[!,\"Position (um)\"] = 1:1:150\n",
    "\n",
    "for (i,N) in enumerate(dyn_N)\n",
    "    nodal_profiles[!,string(alpha_data_times_norm_v[2:end][i]) * \"* t_wt\"] = N ./  N_max\n",
    "end\n",
    "\n",
    "nodal_profiles_cp  = DataFrames.DataFrame()\n",
    "\n",
    "nodal_profiles_cp[!,\"Position (um)\"] = 1:1:150\n",
    "\n",
    "for (i,N) in enumerate(dyn_N_cp)\n",
    "    nodal_profiles_cp[!,string(alpha_data_times_norm_v[2:end][i]) * \"* t_wt\"] = N ./ N_max\n",
    "end"
   ]
  },
  {
   "cell_type": "code",
   "execution_count": null,
   "metadata": {},
   "outputs": [],
   "source": [
    "N_binned_max = maximum(maximum.(dyn_N_binned))"
   ]
  },
  {
   "cell_type": "code",
   "execution_count": null,
   "metadata": {},
   "outputs": [],
   "source": [
    "fig = Figure(size = (600,300), fontsize = 12.)\n",
    "\n",
    "# fig = Figure(size = (1000,1000), fontsize = 12.)\n",
    "\n",
    "ax1 = Axis(fig[1,1], xlabel = L\"\\text{Position} ( \\mu m)\", ylabel= L\"\\text{Nodal Concentration}\", title = \"WT - binned\")\n",
    "\n",
    "for (i,N) in enumerate(dyn_N_binned)\n",
    "    lines!(ax1,bin_x,N ./ N_binned_max,label = string(alpha_data_times_norm_v[2:end][i]) * \"* t_wt\",colormap = :viridis, color = i, colorrange = (1,length(t_check)))\n",
    "end\n",
    "\n",
    "ax2 = Axis(fig[1,2], xlabel = L\"\\text{Position} ( \\mu m)\", ylabel= L\"\\text{Nodal Concentration}\", title = \"Wnt11 - binned\")\n",
    "\n",
    "for (i,N) in enumerate(dyn_N_cp_binned)\n",
    "    lines!(ax2,bin_x,N ./ N_binned_max,label = string(alpha_data_times_norm_v[2:end][i]) * \"* t_wt\",colormap = :viridis, color = i, colorrange = (1,length(t_check)))\n",
    "end\n",
    "\n",
    "linkyaxes!(ax1,ax2)\n",
    "\n",
    "Legend(fig[2,1:2],ax2,nbanks =  5)\n",
    "\n",
    "save(plotsdir(exp_name * \"/FinalFigures_DT/NodalProfilesBinned_10.pdf\"),fig)\n",
    "\n",
    "fig"
   ]
  },
  {
   "cell_type": "code",
   "execution_count": null,
   "metadata": {},
   "outputs": [],
   "source": [
    "nodal_profiles_binned10  = DataFrames.DataFrame()\n",
    "\n",
    "nodal_profiles_binned10[!,\"Position_bin10\"] = bin_x\n",
    "\n",
    "for (i,N) in enumerate(dyn_N_binned)\n",
    "    nodal_profiles_binned10[!,string(alpha_data_times_norm_v[2:end][i]) * \"* t_wt\"] = N ./ N_binned_max\n",
    "end\n",
    "\n",
    "nodal_profiles_binned10_cp  = DataFrames.DataFrame()\n",
    "\n",
    "nodal_profiles_binned10_cp[!,\"Position_bin10\"] = bin_x\n",
    "\n",
    "for (i,N) in enumerate(dyn_N_cp_binned)\n",
    "    nodal_profiles_binned10_cp[!,string(alpha_data_times_norm_v[2:end][i]) * \"* t_wt\"] = N ./ N_binned_max\n",
    "end"
   ]
  },
  {
   "cell_type": "code",
   "execution_count": null,
   "metadata": {},
   "outputs": [],
   "source": [
    "bin_size = 5\n",
    "\n",
    "dyn_N_binned = [[mean(N[n+1:n+bin_size]) for n in 0:bin_size:150-bin_size] for N in dyn_N]\n",
    "\n",
    "dyn_N_cp = [sol[1:150,1] for sol in sol_profiles_cp.u[1:length(t_check)]];\n",
    "dyn_L_cp = [sol[1:150,2] for sol in sol_profiles_cp.u[1:length(t_check)]];\n",
    "dyn_α_cp = [sol[1:150,4] for sol in sol_profiles_cp.u[1:length(t_check)]];\n",
    "\n",
    "dyn_N_cp_binned = [[mean(N[n+1:n+bin_size]) for n in 0:bin_size:150-bin_size] for N in dyn_N_cp]\n",
    "\n",
    "lefty_prod_profiles_cp = [ν.(cN,σ.(p_cp_tuple[:σL0],ϕ0,ϕ.(α)),p_cp_tuple[:NL],p_cp_tuple[:mL]) for (cN,α) in zip(dyn_N_cp,dyn_α_cp)];\n",
    "lefty_prod_profiles = [ν.(cN,σ.(p_tuple[:σL0],ϕ0,ϕ.(α)),p_tuple[:NL],p_tuple[:mL]) for (cN,α) in zip(dyn_N,dyn_α)];\n",
    "\n",
    "nodal_prod_profiles_cp = [ν.(cN,σ.(p_cp_tuple[:σN0],ϕ0,ϕ.(α)),p_cp_tuple[:Na],p_cp_tuple[:mN]) for (cN,α) in zip(dyn_N_cp,dyn_α_cp)];\n",
    "nodal_prod_profiles = [ν.(cN,σ.(p_tuple[:σN0],ϕ0,ϕ.(α)),p_tuple[:Na],p_tuple[:mN]) for (cN,α) in zip(dyn_N,dyn_α)];"
   ]
  },
  {
   "cell_type": "code",
   "execution_count": null,
   "metadata": {},
   "outputs": [],
   "source": [
    "N_binned_max = maximum(maximum.(dyn_N_binned))"
   ]
  },
  {
   "cell_type": "code",
   "execution_count": null,
   "metadata": {},
   "outputs": [],
   "source": [
    "bin_x = [i for i in 0:bin_size:150-bin_size];\n",
    "\n",
    "bin_x = bin_x .+ bin_size ./ 2;"
   ]
  },
  {
   "cell_type": "code",
   "execution_count": null,
   "metadata": {},
   "outputs": [],
   "source": [
    "fig = Figure(size = (600,300), fontsize = 12.)\n",
    "\n",
    "ax1 = Axis(fig[1,1], xlabel = L\"\\text{Position} ( \\mu m)\", ylabel= L\"\\text{Nodal Concentration}\", title = \"WT - binned\")\n",
    "\n",
    "for (i,N) in enumerate(dyn_N_binned)\n",
    "    lines!(ax1,bin_x,N ./ N_binned_max,label = string(alpha_data_times_norm_v[2:end][i]) * \"* t_wt\",colormap = :viridis, color = i, colorrange = (1,length(t_check)))\n",
    "end\n",
    "\n",
    "ax2 = Axis(fig[1,2], xlabel = L\"\\text{Position} ( \\mu m)\", ylabel= L\"\\text{Nodal Concentration}\", title = \"Wnt11 - binned\")\n",
    "\n",
    "for (i,N) in enumerate(dyn_N_cp_binned)\n",
    "    lines!(ax2,bin_x,N ./ N_binned_max,label = string(alpha_data_times_norm_v[2:end][i]) * \"* t_wt\",colormap = :viridis, color = i, colorrange = (1,length(t_check)))\n",
    "end\n",
    "\n",
    "linkyaxes!(ax1,ax2)\n",
    "\n",
    "Legend(fig[2,1:2],ax2,nbanks =  5)\n",
    "\n",
    "save(plotsdir(exp_name * \"/FinalFigures_DT/NodalProfilesBinned_5.pdf\"),fig)\n",
    "\n",
    "fig"
   ]
  },
  {
   "cell_type": "code",
   "execution_count": null,
   "metadata": {},
   "outputs": [],
   "source": [
    "nodal_profiles_binned5  = DataFrames.DataFrame()\n",
    "\n",
    "nodal_profiles_binned5[!,\"Position_bin5\"] = bin_x\n",
    "\n",
    "for (i,N) in enumerate(dyn_N_binned)\n",
    "    nodal_profiles_binned5[!,string(alpha_data_times_norm_v[2:end][i]) * \"* t_wt\"] = N ./ N_binned_max\n",
    "end\n",
    "\n",
    "nodal_profiles_binned5_cp  = DataFrames.DataFrame()\n",
    "\n",
    "nodal_profiles_binned5_cp[!,\"Position_bin5\"] = bin_x\n",
    "\n",
    "for (i,N) in enumerate(dyn_N_cp_binned)\n",
    "    nodal_profiles_binned5_cp[!,string(alpha_data_times_norm_v[2:end][i]) * \"* t_wt\"] = N ./ N_binned_max\n",
    "end"
   ]
  },
  {
   "cell_type": "code",
   "execution_count": null,
   "metadata": {},
   "outputs": [],
   "source": [
    "fig = Figure(size = (600,300), fontsize = 12.)\n",
    "\n",
    "nodal_degr = [p_tuple[:kNL] .*(1 ./ (1 .+ (p_tuple[:LN] ./ L) .^ p_tuple[:mNL])) for L in dyn_L]\n",
    "nodal_degr_cp = [p_cp_tuple[:kNL].*(1 ./ (1 .+ (p_cp_tuple[:LN] ./ L) .^ p_cp_tuple[:mNL])) for L in dyn_L_cp]\n",
    "\n",
    "ax1 = Axis(fig[1,1], xlabel = L\"\\text{Position}\", ylabel= L\"k_{NL} (1 / (1 + (L_N / L)^{m_{NL}})\", title = \"WT\")\n",
    "\n",
    "for (i,N) in enumerate(nodal_degr)\n",
    "    lines!(ax1,N,label = string(alpha_data_times_norm_v[2:end][i]) * \"* t_wt\",colormap = :viridis, color = i, colorrange = (1,length(t_check)))\n",
    "end\n",
    "\n",
    "ax2 = Axis(fig[1,2], xlabel = L\"\\text{Position}\", ylabel= L\"k_{NL} (1 / (1 + (L_N / L)^{m_{NL}})\", title = \"Wnt11\")\n",
    "\n",
    "for (i,N) in enumerate(nodal_degr_cp)\n",
    "    lines!(ax2,N,label = string(alpha_data_times_norm_v[2:end][i]) * \"* t_wt\",colormap = :viridis, color = i, colorrange = (1,length(t_check)))\n",
    "end\n",
    "\n",
    "Legend(fig[2,1:2],ax2,nbanks =  5)\n",
    "\n",
    "linkyaxes!(ax1,ax2)\n",
    "\n",
    "save(plotsdir(exp_name * \"/FinalFigures_DT/LeftyInducedNodalDeg.pdf\"),fig)\n",
    "\n",
    "fig"
   ]
  },
  {
   "cell_type": "code",
   "execution_count": null,
   "metadata": {},
   "outputs": [],
   "source": [
    "nodal_deg_profiles  = DataFrames.DataFrame()\n",
    "\n",
    "nodal_deg_profiles[!,\"Position (um)\"] = 1:1:150\n",
    "\n",
    "for (i,N) in enumerate(nodal_degr)\n",
    "    nodal_deg_profiles[!,string(alpha_data_times_norm_v[2:end][i]) * \"* t_wt\"] = N\n",
    "end\n",
    "\n",
    "nodal_deg_profiles_cp  = DataFrames.DataFrame()\n",
    "\n",
    "nodal_deg_profiles_cp[!,\"Position (um)\"] = 1:1:150\n",
    "\n",
    "for (i,N) in enumerate(nodal_degr_cp)\n",
    "    nodal_deg_profiles_cp[!,string(alpha_data_times_norm_v[2:end][i]) * \"* t_wt\"] = N\n",
    "end"
   ]
  },
  {
   "cell_type": "code",
   "execution_count": null,
   "metadata": {},
   "outputs": [],
   "source": [
    "# XLSX.writetable(exp_name *  \"FigureData\" * \".xlsx\", \"SMADFits\"=>smad_plot_df,\"TotalLeftyProduction\"=>intl_plot_df,\"AlphaFits\"=>alpha_fits,\"AlphaExpData\"=>alpha_data,\"NodalProfiles_WT\"=>nodal_profiles,\"NodalProfiles_Wnt11\"=>nodal_profiles_cp,\"NodalProfiles_WT_binned\"=>nodal_profiles_binned,\"NodalProfiles_Wnt11_binned\"=>nodal_profiles_cp_binned);\n",
    "\n",
    "XLSX.writetable(plotsdir(exp_name *  \"/FinalFigures_DT/FigureData\" * \".xlsx\"), \"SMADFits\"=>smad_plot_df,\n",
    "\"TotalLeftyProduction\"=>intl_plot_df,\"AlphaFits\"=>alpha_fits,\"AlphaExpData\"=>alpha_data,\n",
    "\"NodalProfiles_WT\"=>nodal_profiles,\"NodalProfiles_Wnt11\"=>nodal_profiles_cp,\n",
    "\"NodalProfiles_WT_binned10\"=>nodal_profiles_binned10,\"NodalProfiles_Wnt11_binned10\"=>nodal_profiles_binned10_cp,\n",
    "\"NodalProfiles_WT_binned5\"=>nodal_profiles_binned5,\"NodalProfiles_Wnt11_binned5\"=>nodal_profiles_binned5_cp,\n",
    "\"LftyInducedDeg_WT\"=>nodal_deg_profiles,\"LftyInducedDeg_Wnt11\"=>nodal_deg_profiles_cp,\"Parameters\"=>parameter_df);"
   ]
  },
  {
   "cell_type": "code",
   "execution_count": null,
   "metadata": {},
   "outputs": [],
   "source": [
    "exp_name"
   ]
  },
  {
   "cell_type": "code",
   "execution_count": null,
   "metadata": {},
   "outputs": [],
   "source": [
    "parameter_df"
   ]
  },
  {
   "cell_type": "code",
   "execution_count": null,
   "metadata": {},
   "outputs": [],
   "source": []
  }
 ],
 "metadata": {
  "kernelspec": {
   "display_name": "Julia 1.8.2",
   "language": "julia",
   "name": "julia-1.8"
  },
  "language_info": {
   "file_extension": ".jl",
   "mimetype": "application/julia",
   "name": "julia",
   "version": "1.8.2"
  },
  "orig_nbformat": 4
 },
 "nbformat": 4,
 "nbformat_minor": 2
}
